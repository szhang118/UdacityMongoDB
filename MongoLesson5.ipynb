{
 "cells": [
  {
   "cell_type": "code",
   "execution_count": 1,
   "metadata": {
    "collapsed": true
   },
   "outputs": [],
   "source": [
    "from pymongo import MongoClient\n",
    "import pprint"
   ]
  },
  {
   "cell_type": "code",
   "execution_count": 2,
   "metadata": {
    "collapsed": true
   },
   "outputs": [],
   "source": [
    "client = MongoClient('mongodb://localhost:27017')"
   ]
  },
  {
   "cell_type": "code",
   "execution_count": 3,
   "metadata": {
    "collapsed": true
   },
   "outputs": [],
   "source": [
    "import json"
   ]
  },
  {
   "cell_type": "code",
   "execution_count": 37,
   "metadata": {
    "collapsed": true
   },
   "outputs": [],
   "source": [
    "database = client['Twitter']\n",
    "db = database['tweets']"
   ]
  },
  {
   "cell_type": "code",
   "execution_count": 19,
   "metadata": {
    "collapsed": true
   },
   "outputs": [],
   "source": []
  },
  {
   "cell_type": "code",
   "execution_count": 17,
   "metadata": {
    "collapsed": false
   },
   "outputs": [],
   "source": [
    "data = []\n",
    "with open('tweets.json', 'rb') as f:\n",
    "    for line in f:\n",
    "        data.append(json.loads(line))"
   ]
  },
  {
   "cell_type": "code",
   "execution_count": 18,
   "metadata": {
    "collapsed": false
   },
   "outputs": [
    {
     "name": "stdout",
     "output_type": "stream",
     "text": [
      "51428\n"
     ]
    }
   ],
   "source": [
    "print len(data)"
   ]
  },
  {
   "cell_type": "code",
   "execution_count": 38,
   "metadata": {
    "collapsed": false
   },
   "outputs": [],
   "source": [
    "for t in data:\n",
    "    try: \n",
    "        db.insert_one(t)\n",
    "    except:\n",
    "        continue"
   ]
  },
  {
   "cell_type": "code",
   "execution_count": 39,
   "metadata": {
    "collapsed": false
   },
   "outputs": [
    {
     "data": {
      "text/plain": [
       "{u'_id': ObjectId('573c8d7dde301b0cf4b0c146'),\n",
       " u'contributors': None,\n",
       " u'coordinates': None,\n",
       " u'created_at': u'Thu Sep 02 18:11:23 +0000 2010',\n",
       " u'entities': {u'hashtags': [], u'urls': [], u'user_mentions': []},\n",
       " u'favorited': False,\n",
       " u'geo': None,\n",
       " u'id': 22819396900L,\n",
       " u'in_reply_to_screen_name': None,\n",
       " u'in_reply_to_status_id': None,\n",
       " u'in_reply_to_user_id': None,\n",
       " u'place': None,\n",
       " u'retweet_count': None,\n",
       " u'retweeted': False,\n",
       " u'source': u'web',\n",
       " u'text': u'eu preciso de terminar de fazer a minha tabela, est\\xe1 muito foda **',\n",
       " u'truncated': False,\n",
       " u'user': {u'contributors_enabled': False,\n",
       "  u'created_at': u'Fri Jul 03 21:44:05 +0000 2009',\n",
       "  u'description': u's\\xf3 os loucos sabem (:',\n",
       "  u'favourites_count': 1,\n",
       "  u'follow_request_sent': None,\n",
       "  u'followers_count': 102,\n",
       "  u'following': None,\n",
       "  u'friends_count': 73,\n",
       "  u'geo_enabled': False,\n",
       "  u'id': 53507833,\n",
       "  u'lang': u'en',\n",
       "  u'listed_count': 0,\n",
       "  u'location': u'',\n",
       "  u'name': u'Beatriz Helena Cunha',\n",
       "  u'notifications': None,\n",
       "  u'profile_background_color': u'081114',\n",
       "  u'profile_background_image_url': u'http://a1.twimg.com/profile_background_images/133178546/biatwitter.jpg',\n",
       "  u'profile_background_tile': True,\n",
       "  u'profile_image_url': u'http://a2.twimg.com/profile_images/1036412454/OgAAADXK9q6kaxrvfwQTINH66RVLAH9YHb-veRTA4FaWb9KtbGGV_yKTGzmvzTfJidqAb5gK_mpspIE-MIvAASGH2CwAm1T1UIPQk0-HS8x_TV5kdnW30nch7ODk-1_normal.jpg',\n",
       "  u'profile_link_color': u'eb55b6',\n",
       "  u'profile_sidebar_border_color': u'1c9dbd',\n",
       "  u'profile_sidebar_fill_color': u'768575',\n",
       "  u'profile_text_color': u'25b8c2',\n",
       "  u'profile_use_background_image': True,\n",
       "  u'protected': False,\n",
       "  u'screen_name': u'Bia_cunha1',\n",
       "  u'show_all_inline_media': False,\n",
       "  u'statuses_count': 3504,\n",
       "  u'time_zone': u'Brasilia',\n",
       "  u'url': u'http://http://www.orkut.com.br/Main#Profile?uid=1433295880233078770',\n",
       "  u'utc_offset': -10800,\n",
       "  u'verified': False}}"
      ]
     },
     "execution_count": 39,
     "metadata": {},
     "output_type": "execute_result"
    }
   ],
   "source": [
    "db.find_one()"
   ]
  },
  {
   "cell_type": "code",
   "execution_count": 30,
   "metadata": {
    "collapsed": true
   },
   "outputs": [],
   "source": [
    "def most_tweets():\n",
    "    result = db.aggregate([\n",
    "            {'$group':{'_id':'$user.screen_name',\n",
    "                        'count':{'$sum':1}}},\n",
    "            {'$sort':{'count':-1}} ])\n",
    "    return result"
   ]
  },
  {
   "cell_type": "code",
   "execution_count": 44,
   "metadata": {
    "collapsed": false
   },
   "outputs": [],
   "source": [
    "#result = most_tweets()\n",
    "#for d in result:\n",
    "    #pprint.pprint(d)"
   ]
  },
  {
   "cell_type": "code",
   "execution_count": null,
   "metadata": {
    "collapsed": true
   },
   "outputs": [],
   "source": [
    "\"\"\"\n",
    "The tweets in our twitter collection have a field called \"source\". This field describes the application\n",
    "that was used to create the tweet. Following the examples for using the $group operator, your task is \n",
    "to modify the 'make-pipeline' function to identify most used applications for creating tweets. \n",
    "As a check on your query, 'web' is listed as the most frequently used application.\n",
    "'Ubertwitter' is the second most used. The number of counts should be stored in a field named 'count'\n",
    "(see the assertion at the end of the script). \"\"\""
   ]
  },
  {
   "cell_type": "code",
   "execution_count": null,
   "metadata": {
    "collapsed": false
   },
   "outputs": [],
   "source": [
    "def make_pipeline():\n",
    "    # complete the aggregation pipeline\n",
    "    pipeline = [{'$group':{'_id':'$source',\n",
    "                           'count':{'$sum':1}}},\n",
    "                {'$sort': {'count':-1}}\n",
    "               ]\n",
    "    return pipeline"
   ]
  },
  {
   "cell_type": "code",
   "execution_count": null,
   "metadata": {
    "collapsed": true
   },
   "outputs": [],
   "source": [
    "#$project:shapes documents for next stage such as subsetting fields\n",
    "#$match: filters documents based on specified criteria\n",
    "#$skip: allows skip over a certain number of documents at beginning\n",
    "#$limit: limits query to top specified number of documents\n",
    "#$unwind: unpacks array fields and creates an instance for each document with unpacked area field:value pairs"
   ]
  },
  {
   "cell_type": "code",
   "execution_count": 60,
   "metadata": {
    "collapsed": false
   },
   "outputs": [
    {
     "name": "stdout",
     "output_type": "stream",
     "text": [
      "{u'followers': 854199, u'screen_name': u'garyvee'}\n",
      "{u'followers': 457722, u'screen_name': u'jimmycarr'}\n",
      "{u'followers': 330179, u'screen_name': u'lilduval'}\n",
      "{u'followers': 330151, u'screen_name': u'lilduval'}\n",
      "{u'followers': 307902, u'screen_name': u'Adela_Micha'}\n",
      "{u'followers': 289006, u'screen_name': u'fitrop'}\n",
      "{u'followers': 275708, u'screen_name': u'GuyKawasaki'}\n",
      "{u'followers': 259760, u'screen_name': u'otaviomesquita'}\n",
      "{u'followers': 208325, u'screen_name': u'fatbellybella'}\n",
      "{u'followers': 199501, u'screen_name': u'JackAllTimeLow'}\n"
     ]
    }
   ],
   "source": [
    "def most_follows():\n",
    "    result = db.aggregate([\n",
    "            {'$project':{'_id':0, 'screen_name':'$user.screen_name', 'followers':'$user.followers_count'}},\n",
    "            {'$sort':{'followers':-1}},\n",
    "            {'$limit':10}\n",
    "        ])\n",
    "    for a in result:\n",
    "        pprint.pprint(a)\n",
    "most_follows()"
   ]
  },
  {
   "cell_type": "code",
   "execution_count": 55,
   "metadata": {
    "collapsed": false
   },
   "outputs": [],
   "source": [
    "def highest_ratio():\n",
    "    result = db.aggregate([\n",
    "            {'$match':{'user.friends_count':{'$gt':0}, #limit to users with friends, followers > 0\n",
    "                    'user.followers_count':{'$gt':0}}},\n",
    "            {'$project':{'ratio':{'$divide':['$user.followers_count', #ratio for followers:friends\n",
    "                                              '$user.friends_count']},\n",
    "                         \"screen_name\":'$user.screen_name'}},\n",
    "            {'$sort':{'ratio':-1}}, #sort in descending order\n",
    "            {'$limit':10}   #limit top result            \n",
    "        ])\n",
    "    return result"
   ]
  },
  {
   "cell_type": "code",
   "execution_count": 56,
   "metadata": {
    "collapsed": false
   },
   "outputs": [
    {
     "name": "stdout",
     "output_type": "stream",
     "text": [
      "{u'_id': ObjectId('573c8d8bde301b0cf4b14580'), u'ratio': 19221.5, u'screen_name': u'Twitterrific'}\n",
      "{u'_id': ObjectId('573c8d8ade301b0cf4b13a3f'), u'ratio': 17124.0, u'screen_name': u'steve_berra'}\n",
      "{u'_id': ObjectId('573c8d8ade301b0cf4b13cf0'), u'ratio': 16847.0, u'screen_name': u'2dopeboyz'}\n",
      "{u'_id': ObjectId('573c8d8ede301b0cf4b1630a'), u'ratio': 13894.222222222223, u'screen_name': u'backstreetboys'}\n",
      "{u'_id': ObjectId('573c8d81de301b0cf4b0e394'), u'ratio': 13155.666666666666, u'screen_name': u'tedouumdado'}\n",
      "{u'_id': ObjectId('573c8d81de301b0cf4b0e589'), u'ratio': 10962.0, u'screen_name': u'3in1of2'}\n",
      "{u'_id': ObjectId('573c8d85de301b0cf4b10969'), u'ratio': 8742.0, u'screen_name': u'craigslistjobs'}\n",
      "{u'_id': ObjectId('573c8d8ede301b0cf4b15e0c'), u'ratio': 8720.0, u'screen_name': u'LaJornada'}\n",
      "{u'_id': ObjectId('573c8d86de301b0cf4b11b2f'), u'ratio': 5918.0, u'screen_name': u'trampos'}\n",
      "{u'_id': ObjectId('573c8d92de301b0cf4b18769'), u'ratio': 3661.0, u'screen_name': u'StyleCareers'}\n"
     ]
    }
   ],
   "source": [
    "result = highest_ratio()\n",
    "for t in result:\n",
    "    print t"
   ]
  },
  {
   "cell_type": "code",
   "execution_count": null,
   "metadata": {
    "collapsed": true
   },
   "outputs": [],
   "source": [
    "\"\"\"\n",
    "Write an aggregation query to answer this question:\n",
    "\n",
    "Of the users in the \"Brasilia\" timezone who have tweeted 100 times or more,\n",
    "who has the largest number of followers?\n",
    "\n",
    "The following hints will help you solve this problem:\n",
    "- Time zone is found in the \"time_zone\" field of the user object in each tweet.\n",
    "- The number of tweets for each user is found in the \"statuses_count\" field.\n",
    "  To access these fields you will need to use dot notation (from Lesson 4)\n",
    "- Your aggregation query should return something like the following:\n",
    "{u'ok': 1.0,\n",
    " u'result': [{u'_id': ObjectId('52fd2490bac3fa1975477702'),\n",
    "                  u'followers': 2597,\n",
    "                  u'screen_name': u'marbles',\n",
    "                  u'tweets': 12334}]}\n",
    "Note that you will need to create the fields 'followers', 'screen_name' and 'tweets'.\"\"\""
   ]
  },
  {
   "cell_type": "code",
   "execution_count": 63,
   "metadata": {
    "collapsed": false
   },
   "outputs": [
    {
     "name": "stdout",
     "output_type": "stream",
     "text": [
      "{u'_id': ObjectId('573c8d82de301b0cf4b0ee80'),\n",
      " u'followers': 259760,\n",
      " u'screen_name': u'otaviomesquita',\n",
      " u'tweets': 10997}\n"
     ]
    }
   ],
   "source": [
    "def brasilia():\n",
    "    result = db.aggregate([\n",
    "            {'$match':{'user.time_zone':'Brasilia', #limit to users in Brasilia\n",
    "                    'user.statuses_count':{'$gte':100}}}, #tweeted 100 times or more\n",
    "            {'$project':{'followers': '$user.followers_count',\n",
    "                         \"screen_name\":'$user.screen_name',\n",
    "                        'tweets': '$user.statuses_count'}},\n",
    "            {'$sort':{'followers':-1}}, #sort in descending order\n",
    "            {'$limit':1}   #limit top result            \n",
    "        ])\n",
    "    for a in result:\n",
    "        pprint.pprint(a)\n",
    "brasilia()"
   ]
  },
  {
   "cell_type": "code",
   "execution_count": null,
   "metadata": {
    "collapsed": true
   },
   "outputs": [],
   "source": [
    "# db.find({'entities.user_mentions':{'$size':3}}) #documents with user_mentions of length 3"
   ]
  },
  {
   "cell_type": "code",
   "execution_count": 64,
   "metadata": {
    "collapsed": false
   },
   "outputs": [
    {
     "name": "stdout",
     "output_type": "stream",
     "text": [
      "{u'_id': u'ThizBoySwagLoud', u'count': 21}\n"
     ]
    }
   ],
   "source": [
    "def user_mentions():\n",
    "    results = db.aggregate([\n",
    "            {'$unwind': '$entities.user_mentions'},\n",
    "            {'$group': {'_id':'$user.screen_name',\n",
    "                       'count': {'$sum': 1}}},\n",
    "            {'$sort':{'count':-1}},\n",
    "            {'$limit': 1}\n",
    "        ])\n",
    "    for a in results:\n",
    "        pprint.pprint(a)\n",
    "user_mentions()"
   ]
  },
  {
   "cell_type": "code",
   "execution_count": null,
   "metadata": {
    "collapsed": true
   },
   "outputs": [],
   "source": [
    "\"\"\"\n",
    "For this exercise, let's return to our cities infobox dataset. The question we would like you to answer\n",
    "is as follows:  Which region or district in India contains the most cities? (Make sure that the count of\n",
    "cities is stored in a field named 'count'; see the assertions at the end of the script.) \"\"\""
   ]
  },
  {
   "cell_type": "code",
   "execution_count": 65,
   "metadata": {
    "collapsed": true
   },
   "outputs": [],
   "source": [
    "def india():\n",
    "    [    {'$match': {'country': 'India'}}, #limits to India\n",
    "            {'$unwind': '$isPartOf'},\n",
    "            {'$group': {'_id':'$isPartOf',\n",
    "                       'count': {'$sum': 1}}},\n",
    "            {'$sort':{'count':-1}},\n",
    "            {'$limit': 1}\n",
    "        ]"
   ]
  },
  {
   "cell_type": "code",
   "execution_count": 66,
   "metadata": {
    "collapsed": false
   },
   "outputs": [
    {
     "name": "stdout",
     "output_type": "stream",
     "text": [
      "{u'_id': u'actress', u'retweet_avg': None}\n",
      "{u'_id': u'love', u'retweet_avg': None}\n",
      "{u'_id': u'wordpress', u'retweet_avg': None}\n",
      "{u'_id': u'amigu\\xeds', u'retweet_avg': None}\n",
      "{u'_id': u'Thingsthatmakeyougohmmmm', u'retweet_avg': None}\n",
      "{u'_id': u'movies', u'retweet_avg': None}\n",
      "{u'_id': u'SinCableTVRecomienda', u'retweet_avg': None}\n",
      "{u'_id': u'Michiles2233', u'retweet_avg': None}\n",
      "{u'_id': u'NEWS', u'retweet_avg': None}\n",
      "{u'_id': u'littleknownfactsaboutme', u'retweet_avg': None}\n"
     ]
    }
   ],
   "source": [
    "def hashtag_retweet_avg():\n",
    "    results = db.aggregate([\n",
    "            {'$unwind': '$entities.hashtags'},\n",
    "            {'$group': {'_id':'$entities.hashtags.text',\n",
    "                       'retweet_avg': {'$avg': '$retweet_count'}}},\n",
    "            {'$sort':{'retweet_avg':-1}},\n",
    "            {'$limit': 10}\n",
    "        ])\n",
    "    for a in results:\n",
    "        pprint.pprint(a)\n",
    "hashtag_retweet_avg()"
   ]
  },
  {
   "cell_type": "code",
   "execution_count": 67,
   "metadata": {
    "collapsed": true
   },
   "outputs": [],
   "source": [
    "def unique_hashtags_by_user():\n",
    "    results = db.aggregate([\n",
    "            {'$unwind': '$entities.hashtags'},\n",
    "            {'$group': {'_id':'$user.screen_name',\n",
    "                       'unique_hashtags': {'$addToSet': '$entities.hashtags.text'}}},\n",
    "            {'$sort':{'_id':-1}}\n",
    "        ])"
   ]
  },
  {
   "cell_type": "code",
   "execution_count": 71,
   "metadata": {
    "collapsed": false
   },
   "outputs": [
    {
     "data": {
      "text/plain": [
       "<pymongo.command_cursor.CommandCursor at 0x29d6d7d0>"
      ]
     },
     "execution_count": 71,
     "metadata": {},
     "output_type": "execute_result"
    }
   ],
   "source": [
    "\"\"\"\n",
    "$push is similar to $addToSet. The difference is that rather than accumulating only unique values \n",
    "it aggregates all values into an array.\n",
    "\n",
    "Using an aggregation query, count the number of tweets for each user. In the same $group stage, \n",
    "use $push to accumulate all the tweet texts for each user. Limit your output to the 5 users\n",
    "with the most tweets. \n",
    "Your result documents should include only the fields:\n",
    "\"_id\" (screen name of user), \n",
    "\"count\" (number of tweets found for the user),\n",
    "\"tweet_texts\" (a list of the tweet texts found for the user).  \n",
    "\"\"\"\n",
    "\n",
    "def tweet_counts():\n",
    "    results = db.aggregate([\n",
    "            {'$group': {'_id':'$user.screen_name',\n",
    "                       'count': {'$sum': 1},\n",
    "                       'tweet_texts': {'$push': '$text'}}},\n",
    "            {'$sort':{'count':-1}},\n",
    "            {'$limit': 5}\n",
    "        ])\n",
    "    #for r in results:\n",
    "     #   pprint.pprint(r)\n",
    "    return results\n",
    "tweet_counts()"
   ]
  },
  {
   "cell_type": "code",
   "execution_count": 73,
   "metadata": {
    "collapsed": false
   },
   "outputs": [
    {
     "name": "stdout",
     "output_type": "stream",
     "text": [
      "{u'_id': u'Democracy_Work', u'count': 17}\n",
      "{u'_id': u'ThizBoySwagLoud', u'count': 16}\n",
      "{u'_id': u'itsajstuerd', u'count': 15}\n",
      "{u'_id': u'FollowersNeeded', u'count': 15}\n",
      "{u'_id': u'Egreeedy', u'count': 12}\n",
      "{u'_id': u'Spirics', u'count': 12}\n",
      "{u'_id': u'soulbrother64', u'count': 11}\n",
      "{u'_id': u'MULA_BSB', u'count': 11}\n",
      "{u'_id': u'burnedoutdoc', u'count': 11}\n",
      "{u'_id': u'thiagothamiel', u'count': 10}\n"
     ]
    }
   ],
   "source": [
    "def unique_user_mentions():\n",
    "    results = db.aggregate([\n",
    "            {'$unwind': '$entities.user_mentions'},\n",
    "            {'$group': {'_id':'$user.screen_name',\n",
    "                       'mset': {'$addToSet': '$entities.user_mentions.screen_name'}}},\n",
    "            {'$unwind': '$mset'},\n",
    "            {'$group':{'_id':'$_id', 'count': {'$sum':1}}},\n",
    "            {'$sort':{'count':-1}},\n",
    "            {'$limit': 10}\n",
    "        ])\n",
    "    for a in results:\n",
    "        pprint.pprint(a)\n",
    "unique_user_mentions()"
   ]
  },
  {
   "cell_type": "code",
   "execution_count": 74,
   "metadata": {
    "collapsed": true
   },
   "outputs": [],
   "source": [
    "\"\"\"\n",
    "In an earlier exercise we looked at the cities dataset and asked which region in India contains \n",
    "the most cities. In this exercise, we'd like you to answer a related question regarding regions in \n",
    "India. What is the average city population for a region in India? Calculate your answer by first \n",
    "finding the average population of cities in each region and then by calculating the average of the \n",
    "regional averages.\n",
    "\n",
    "Hint: If you want to accumulate using values from all input documents to a group stage, you may use \n",
    "a constant as the value of the \"_id\" field. For example, \n",
    "    { \"$group\" : {\"_id\" : \"India Regional City Population Average\",\n",
    "      ... } \"\"\"\n",
    "def india_city():\n",
    "    [    {'$match': {'country': 'India'}}, #limits to India\n",
    "            {'$unwind': '$isPartOf'},\n",
    "            {'$group': {'_id':'$isPartOf',\n",
    "                       'average': {'$avg': '$population'}}},\n",
    "            {'$group': {'_id': 'India Regional City Population Average',\n",
    "                       'avg': {'$avg': '$average'}}}\n",
    "        ]"
   ]
  },
  {
   "cell_type": "code",
   "execution_count": 3,
   "metadata": {
    "collapsed": true
   },
   "outputs": [],
   "source": [
    "\"\"\"\n",
    "What is the most common city name in our cities collection?\n",
    "\n",
    "Your first attempt probably identified None as the most frequently occurring\n",
    "city name. What that actually means is that there are a number of cities\n",
    "without a name field at all. \n",
    "\n",
    "To solve this problem the right way, we should really ignore cities that don't\n",
    "have a name specified. As a hint ask yourself what pipeline operator allows us\n",
    "to simply filter input? How do we test for the existence of a field?\"\"\"\n",
    "def make_pipeline():\n",
    "    pipeline = [ {'$match':{'name':{'$ne': None}}},\n",
    "                 {'$group':{'_id':'$name', 'count':{'$sum':1}}},\n",
    "                 {'$sort':{'count': -1}},\n",
    "                 {'$limit': 1}\n",
    "    ]\n",
    "    return pipeline"
   ]
  },
  {
   "cell_type": "code",
   "execution_count": 11,
   "metadata": {
    "collapsed": false
   },
   "outputs": [],
   "source": [
    "\"\"\"\n",
    "Which Region in India has the largest number of cities with longitude between\n",
    "75 and 80?\"\"\"\n",
    "def make_pipeline():\n",
    "    pipeline = [ {'$match':{'lon':{'$gte': 75, '$lte': 80}, 'country':'India'}},\n",
    "                 {'$unwind': '$isPartOf'},\n",
    "                 {'$group': {'_id':'$isPartOf',\n",
    "                       'count': {'$sum': 1}}},\n",
    "                 {'$sort':{'count': -1}},\n",
    "                 {'$limit': 1}\n",
    "    ]\n",
    "    return pipeline"
   ]
  },
  {
   "cell_type": "code",
   "execution_count": 12,
   "metadata": {
    "collapsed": true
   },
   "outputs": [],
   "source": [
    "\"\"\"\n",
    "Extrapolating from an earlier exercise in this lesson, find the average\n",
    "regional city population for all countries in the cities collection. What we\n",
    "are asking here is that you first calculate the average city population for each\n",
    "region in a country and then calculate the average of all the regional averages\n",
    "for a country.\n",
    "\n",
    "  As a hint, _id fields in group stages need not be single values. They can\n",
    "also be compound keys (documents composed of multiple fields). You will use the\n",
    "same aggregation operator in more than one stage in writing this aggregation\n",
    "query. I encourage you to write it one stage at a time and test after writing\n",
    "each stage. \"\"\"\n",
    "def make_pipeline():\n",
    "    pipeline = [\n",
    "            {'$unwind': '$isPartOf'}, #unwinds by region\n",
    "            {'$group': {'_id':{'country':'$country', \"isPartOf\": '$isPartOf'}, #compound key with country and region\n",
    "                       'average': {'$avg': '$population'}}}, #average by country/region key\n",
    "            {'$group': {'_id': '$_id.country', #group again by country\n",
    "                       'avgRegionalPopulation': {'$avg': '$average'}}} #take average over country\n",
    "        ]\n",
    "    return pipeline"
   ]
  },
  {
   "cell_type": "code",
   "execution_count": null,
   "metadata": {
    "collapsed": true
   },
   "outputs": [],
   "source": [
    "def elevation():\n",
    "    pipeline = [\n",
    "            {'$group': {'_id': '$country', 'avgElevation': {'$avg':'$elevation'}}},\n",
    "            {'$sort': {'avgElevation':-1}}\n",
    "        ]\n",
    "    return pipeline"
   ]
  }
 ],
 "metadata": {
  "kernelspec": {
   "display_name": "Python 2",
   "language": "python",
   "name": "python2"
  },
  "language_info": {
   "codemirror_mode": {
    "name": "ipython",
    "version": 2
   },
   "file_extension": ".py",
   "mimetype": "text/x-python",
   "name": "python",
   "nbconvert_exporter": "python",
   "pygments_lexer": "ipython2",
   "version": "2.7.12"
  }
 },
 "nbformat": 4,
 "nbformat_minor": 0
}
